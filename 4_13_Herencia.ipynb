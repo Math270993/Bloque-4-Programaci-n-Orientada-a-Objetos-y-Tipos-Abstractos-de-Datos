{
 "cells": [
  {
   "cell_type": "markdown",
   "metadata": {},
   "source": [
    "# Introducción a la Herencia\n",
    "\n",
    "En nuestro viaje por el mundo de la Programación Orientada a Objetos (POO), hemos creado clases que representan entidades en una biblioteca, como `Autor` y `Libro`. Pero, ¿qué pasa si queremos crear nuevas clases que compartan características con las ya existentes, pero con algunas diferencias o adicionales? ¡Aquí es donde entra en juego la herencia!\n",
    "\n",
    "### Pregunta problema: \n",
    "¿Cómo podemos extender nuestras clases existentes para representar diferentes tipos de autores o libros, sin tener que reescribir todo el código?\n",
    "\n"
   ]
  },
  {
   "cell_type": "code",
   "execution_count": 3,
   "metadata": {},
   "outputs": [],
   "source": [
    "# Definimos la clase base Autor\n",
    "class Autor:\n",
    "    def __init__(self, nombre):\n",
    "        self.nombre = nombre"
   ]
  },
  {
   "cell_type": "markdown",
   "metadata": {},
   "source": [
    "## Conceptos clave de la herencia\n",
    "\n",
    "La **herencia** permite que una clase (llamada subclase o clase hija) herede atributos y métodos de otra clase (llamada superclase o clase base). La herencia facilita la reutilización y extensión del código.\n",
    "\n",
    "- **Herencia simple:** Una clase deriva de una única clase base.\n",
    "- **Herencia múltiple:** Una clase puede derivar de varias clases base.\n",
    "- **super():** Función que permite llamar a métodos de la clase base desde la clase derivada."
   ]
  },
  {
   "cell_type": "code",
   "execution_count": 4,
   "metadata": {},
   "outputs": [],
   "source": [
    "# Creamos una subclase Escritor que hereda de Autor\n",
    "class Escritor(Autor):\n",
    "    def __init__(self, nombre, genero):\n",
    "        super().__init__(nombre)\n",
    "        self.genero = genero"
   ]
  },
  {
   "cell_type": "markdown",
   "metadata": {},
   "source": [
    "## Ejemplos prácticos de Herencia\n",
    "\n",
    "Vamos a extender nuestra clase `Autor` para crear una nueva clase `Escritor` que tenga un atributo adicional: el género literario principal en el que escribe.\n"
   ]
  },
  {
   "cell_type": "code",
   "execution_count": 5,
   "metadata": {},
   "outputs": [
    {
     "name": "stdout",
     "output_type": "stream",
     "text": [
      "Mario Benedetti Realismo Social\n"
     ]
    }
   ],
   "source": [
    "# Instanciamos un objeto de la clase Escritor\n",
    "escritor = Escritor(\"Mario Benedetti\", \"Realismo Social\")\n",
    "print(escritor.nombre, escritor.genero)"
   ]
  },
  {
   "cell_type": "markdown",
   "metadata": {},
   "source": [
    "## Herencia Múltiple\n",
    "\n",
    "En Python, una clase puede heredar de varias clases base, lo que se conoce como herencia múltiple. Aunque puede ser útil, también puede llevar a complicaciones si varias clases base tienen atributos o métodos con el mismo nombre.\n"
   ]
  },
  {
   "cell_type": "code",
   "execution_count": 6,
   "metadata": {},
   "outputs": [],
   "source": [
    "# Definimos una segunda clase base\n",
    "class Academico:\n",
    "    def __init__(self, universidad):\n",
    "        self.universidad = universidad\n",
    "\n",
    "# Creamos una clase que hereda de Escritor y Academico\n",
    "class EscritorAcademico(Escritor, Academico):\n",
    "    def __init__(self, nombre, genero, universidad):\n",
    "        Escritor.__init__(self, nombre, genero)\n",
    "        Academico.__init__(self, universidad)"
   ]
  },
  {
   "cell_type": "markdown",
   "metadata": {},
   "source": [
    "## Desafíos\n",
    "\n",
    "### Desafío 57: \n",
    "Implementa una clase Poeta que herede de Autor y tenga un atributo para el tipo de poesía que escribe."
   ]
  },
  {
   "cell_type": "code",
   "execution_count": null,
   "metadata": {},
   "outputs": [],
   "source": [
    "# Clase base\n",
    "class Autor:\n",
    "    def __init__(self, nombre):\n",
    "        self.nombre = nombre\n",
    "\n",
    "# Subclase Poeta que hereda de Autor\n",
    "class Poeta(Autor):\n",
    "    def __init__(self, nombre, tipo_poema):\n",
    "        super().__init__(nombre)  # Llama al constructor de la clase base\n",
    "        self.tipo_poema = tipo_poema\n",
    "\n",
    "# Ejemplo:\n",
    "poeta = Poeta(\"Pablo Neruda\", \"Lírico\")\n",
    "print(poeta.nombre, poeta.tipo_poema)"
   ]
  },
  {
   "cell_type": "markdown",
   "metadata": {},
   "source": [
    "Se define la clase base Autor con un atributo nombre que almacene el nombre del autor. Luego, se crea la subclase Poeta que herede de Autor usando la sintaxis class Poeta(Autor). Dentro del constructor de Poeta, se llama a super().__init__(nombre) para inicializar el atributo heredado y se añade un nuevo atributo tipo_poema que almacene el tipo de poesía que escribe el poeta. Finalmente, se instancia un objeto de la clase Poeta proporcionando un nombre y un tipo de poesía, y se imprime sus atributos usando print() para verificar que la herencia y la extensión de la clase funcionan correctamente.\n",
    "\n"
   ]
  },
  {
   "cell_type": "markdown",
   "metadata": {},
   "source": [
    "### Desafío 58:\n",
    "Crea una clase Bibliotecario que herede de Usuario y tenga atributos específicos como sección y años_experiencia."
   ]
  },
  {
   "cell_type": "code",
   "execution_count": null,
   "metadata": {},
   "outputs": [],
   "source": [
    "class Usuario:\n",
    "    def __init__(self, nombre, id_usuario):\n",
    "        self.nombre = nombre\n",
    "        self.id_usuario = id_usuario\n",
    "\n",
    "\n",
    "class Bibliotecario(Usuario):\n",
    "    def __init__(self, nombre, id_usuario, seccion, años_experiencia):\n",
    "        # Llamamos al constructor de la clase base\n",
    "        super().__init__(nombre, id_usuario)\n",
    "        # Atributos propios de Bibliotecario\n",
    "        self.seccion = seccion\n",
    "        self.años_experiencia = años_experiencia\n",
    "\n",
    "\n",
    "# Ejemplo:\n",
    "bibliotecario1 = Bibliotecario(\"Lucía Pérez\", 101, \"Literatura\", 5)\n",
    "\n",
    "print(\"Nombre:\", bibliotecario1.nombre)\n",
    "print(\"ID:\", bibliotecario1.id_usuario)\n",
    "print(\"Sección:\", bibliotecario1.seccion)\n",
    "print(\"Años de experiencia:\", bibliotecario1.años_experiencia)"
   ]
  },
  {
   "cell_type": "markdown",
   "metadata": {},
   "source": [
    "Se define una clase base llamada Usuario, que contiene los atributos comunes a todos los usuarios de la biblioteca, como el nombre y el id_usuario. Luego, se crea una subclase llamada Bibliotecario que hereda de Usuario, lo que significa que puede reutilizar sus atributos y métodos, evitando repetir código. Dentro de esta nueva clase, se agrega un constructor (__init__) que utiliza la función super() para llamar al constructor de la clase base e inicializar los atributos heredados. Además, se añade los nuevos atributos específicos del bibliotecario, como seccion y años_experiencia. Finalmente, se instancia un objeto de la clase Bibliotecario y se muestran sus datos por pantalla para verificar que la herencia y la inicialización funcionan correctamente."
   ]
  },
  {
   "cell_type": "markdown",
   "metadata": {},
   "source": [
    "### Desafío 59:\n",
    "Diseña una clase LibroDigital que herede de Libro y añada atributos como formato (e.g., PDF, EPUB) y tamaño_archivo. Además, implementa una subclase EBook que sobrescriba un método para mostrar información específica, como enlaces de descarga."
   ]
  },
  {
   "cell_type": "code",
   "execution_count": null,
   "metadata": {},
   "outputs": [],
   "source": [
    "# Clase base\n",
    "class Libro:\n",
    "    def __init__(self, titulo, autor, año):\n",
    "        self.titulo = titulo\n",
    "        self.autor = autor\n",
    "        self.año = año\n",
    "\n",
    "    def mostrar_info(self):\n",
    "        print(f\"Título: {self.titulo}\")\n",
    "        print(f\"Autor: {self.autor}\")\n",
    "        print(f\"Año: {self.año}\")\n",
    "\n",
    "\n",
    "# Subclase LibroDigital\n",
    "class LibroDigital(Libro):\n",
    "    def __init__(self, titulo, autor, año, formato, tamaño_archivo):\n",
    "        super().__init__(titulo, autor, año)\n",
    "        self.formato = formato\n",
    "        self.tamaño_archivo = tamaño_archivo\n",
    "\n",
    "    def mostrar_info(self):\n",
    "        super().mostrar_info()\n",
    "        print(f\"Formato: {self.formato}\")\n",
    "        print(f\"Tamaño del archivo: {self.tamaño_archivo} MB\")\n",
    "\n",
    "\n",
    "# Subclase EBook\n",
    "class EBook(LibroDigital):\n",
    "    def __init__(self, titulo, autor, año, formato, tamaño_archivo, enlace_descarga):\n",
    "        super().__init__(titulo, autor, año, formato, tamaño_archivo)\n",
    "        self.enlace_descarga = enlace_descarga\n",
    "\n",
    "    def mostrar_info(self):\n",
    "        print(\"=== Información del E-Book ===\")\n",
    "        print(f\"Título: {self.titulo}\")\n",
    "        print(f\"Autor: {self.autor}\")\n",
    "        print(f\"Año: {self.año}\")\n",
    "        print(f\"Formato: {self.formato}\")\n",
    "        print(f\"Tamaño: {self.tamaño_archivo} MB\")\n",
    "        print(f\"Descarga aquí: {self.enlace_descarga}\")\n",
    "\n",
    "\n",
    "# Ejemplo:\n",
    "ebook = EBook(\n",
    "    \"La tregua\",\n",
    "    \"Mario Benedetti\",\n",
    "    1960,\n",
    "    \"EPUB\",\n",
    "    1.2,\n",
    "    \"https://bibliotecaonline.com/latregua\"\n",
    ")\n",
    "\n",
    "ebook.mostrar_info()\n",
    "\n",
    "ebook.mostrar_info()"
   ]
  },
  {
   "cell_type": "markdown",
   "metadata": {},
   "source": [
    "Se parte de una clase base llamada Libro, que contiene atributos comunes como el título, el autor y el año de publicación. Luego, se crea la clase LibroDigital, que hereda de Libro y agrega nuevos atributos específicos de los libros digitales, como el formato del archivo y su tamaño. Finalmente, se define una subclase EBook, que extiende a LibroDigital e incorpora un atributo adicional, el enlace de descarga. Además, EBook sobrescribe el método mostrar_info() para mostrar información personalizada. De esta manera, el programa demuestra cómo reutilizar y ampliar el código mediante herencia, evitando repeticiones y facilitando la organización del código.\n",
    "\n"
   ]
  },
  {
   "cell_type": "markdown",
   "metadata": {},
   "source": [
    "### Desafío 60:\n",
    "Implementa una clase EscritorAcademico que herede de Escritor y Academico, e incluya un método adicional para publicar artículos académicos. Asegúrate de utilizar correctamente la función super() para inicializar las clases base.\n",
    "\n"
   ]
  },
  {
   "cell_type": "code",
   "execution_count": null,
   "metadata": {},
   "outputs": [],
   "source": [
    "# Clase base 1\n",
    "class Autor:\n",
    "    def __init__(self, nombre):\n",
    "        self.nombre = nombre\n",
    "\n",
    "# Clase base 2\n",
    "class Escritor(Autor):\n",
    "    def __init__(self, nombre, genero):\n",
    "        super().__init__(nombre)\n",
    "        self.genero = genero\n",
    "\n",
    "# Clase base 3\n",
    "class Academico:\n",
    "    def __init__(self, universidad):\n",
    "        self.universidad = universidad\n",
    "\n",
    "# Subclase con herencia múltiple\n",
    "class EscritorAcademico(Escritor, Academico):\n",
    "    def __init__(self, nombre, genero, universidad):\n",
    "        # Usamos super() de forma correcta\n",
    "        super().__init__(nombre, genero)\n",
    "        Academico.__init__(self, universidad)  # Llamada explícita para la segunda clase base\n",
    "        \n",
    "        # Atributo adicional\n",
    "        self.articulos = []\n",
    "\n",
    "    def publicar_articulo(self, titulo):\n",
    "        \"\"\"Agrega un nuevo artículo a la lista del escritor académico.\"\"\"\n",
    "        self.articulos.append(titulo)\n",
    "        print(f\"{self.nombre} ha publicado un nuevo artículo: '{titulo}'\")\n",
    "\n",
    "    def mostrar_info(self):\n",
    "        \"\"\"Muestra la información completa del escritor académico.\"\"\"\n",
    "        print(f\"Nombre: {self.nombre}\")\n",
    "        print(f\"Género literario: {self.genero}\")\n",
    "        print(f\"Universidad: {self.universidad}\")\n",
    "        print(f\"Artículos publicados: {', '.join(self.articulos) if self.articulos else 'Ninguno'}\")\n",
    "        \n",
    " #Ejemplo:\n",
    "ea = EscritorAcademico(\"Eduardo Galeano\", \"Ensayo\", \"Universidad de la República\")\n",
    "\n",
    "# Se publica algunos artículos\n",
    "ea.publicar_articulo(\"La palabra y el poder\")\n",
    "ea.publicar_articulo(\"Memoria y resistencia en América Latina\")\n",
    "\n",
    "# Se muestra toda su información\n",
    "ea.mostrar_info()"
   ]
  },
  {
   "cell_type": "markdown",
   "metadata": {},
   "source": [
    "Se rea la clase base Autor, que almacena el nombre del autor, y luego la clase Escritor, que hereda de Autor y añade el atributo género literario. A continuación se define la clase Academico, con el atributo universidad. Finalmente, se implementa la clase EscritorAcademico, que hereda de Escritor y Academico, utilizando la función super() para inicializar correctamente las clases base y evitar duplicación de código. Esta clase incorpora un método adicional publicar_articulo() que permite registrar los artículos académicos publicados por el autor, almacenándolos en una lista, y un método mostrar_info() que muestra de forma ordenada todos los datos del escritor académico. De este modo, el programa ejemplifica cómo extender y reutilizar código existente mediante herencia, manteniendo una estructura modular, clara y fácilmente ampliable."
   ]
  },
  {
   "cell_type": "markdown",
   "metadata": {},
   "source": [
    "### Desafío 61:\n",
    "Crea una jerarquía de clases para representar diferentes tipos de empleados en\n",
    "una biblioteca, utilizando herencia múltiple y composición. Por ejemplo,\n",
    "implementa clases como Empleado, Gerente, Tecnico, y Voluntario, donde Gerente\n",
    "y Tecnico hereden de Empleado, y algunos puedan tener roles adicionales\n",
    "mediante composición con otras clases como Administrador o Mantenimiento.\n"
   ]
  },
  {
   "cell_type": "code",
   "execution_count": null,
   "metadata": {},
   "outputs": [],
   "source": [
    "# Clase base: Empleado\n",
    "class Empleado:\n",
    "    def __init__(self, nombre, salario):\n",
    "        self.nombre = nombre\n",
    "        self.salario = salario\n",
    "\n",
    "    def mostrar_info(self):\n",
    "        print(f\"Empleado: {self.nombre} | Salario: ${self.salario}\")\n",
    "\n",
    "\n",
    "# Subclases que heredan de Empleado\n",
    "class Gerente(Empleado):\n",
    "    def __init__(self, nombre, salario, departamento):\n",
    "        super().__init__(nombre, salario)\n",
    "        self.departamento = departamento\n",
    "\n",
    "    def mostrar_info(self):\n",
    "        super().mostrar_info()\n",
    "        print(f\"Departamento: {self.departamento}\")\n",
    "\n",
    "\n",
    "class Tecnico(Empleado):\n",
    "    def __init__(self, nombre, salario, especialidad):\n",
    "        super().__init__(nombre, salario)\n",
    "        self.especialidad = especialidad\n",
    "\n",
    "    def mostrar_info(self):\n",
    "        super().mostrar_info()\n",
    "        print(f\"Especialidad técnica: {self.especialidad}\")\n",
    "\n",
    "\n",
    "# Clase Voluntario (no cobra salario)\n",
    "class Voluntario:\n",
    "    def __init__(self, horas_por_semana):\n",
    "        self.horas_por_semana = horas_por_semana\n",
    "\n",
    "    def mostrar_voluntariado(self):\n",
    "        print(f\"Voluntario: {self.horas_por_semana} h/semana\")\n",
    "\n",
    "\n",
    "# Clases adicionales para composición\n",
    "class Administrador:\n",
    "    def __init__(self, nivel):\n",
    "        self.nivel = nivel\n",
    "\n",
    "    def gestionar(self):\n",
    "        print(f\"Gestionando tareas administrativas de nivel {self.nivel}\")\n",
    "\n",
    "\n",
    "class Mantenimiento:\n",
    "    def __init__(self, area):\n",
    "        self.area = area\n",
    "\n",
    "    def reparar(self):\n",
    "        print(f\"Realizando mantenimiento en el área de {self.area}\")\n",
    "\n",
    "\n",
    "# Herencia múltiple: Gerente que también es voluntario\n",
    "class GerenteVoluntario(Gerente, Voluntario):\n",
    "    def __init__(self, nombre, salario, departamento, horas_por_semana):\n",
    "        Gerente.__init__(self, nombre, salario, departamento)\n",
    "        Voluntario.__init__(self, horas_por_semana)\n",
    "\n",
    "\n",
    "# Composición: Técnico con rol adicional\n",
    "class TecnicoConRol(Tecnico):\n",
    "    def __init__(self, nombre, salario, especialidad, rol_extra):\n",
    "        super().__init__(nombre, salario, especialidad)\n",
    "        self.rol_extra = rol_extra  # Objeto de otra clase\n",
    "\n",
    "\n",
    "# Ejemplo:\n",
    "\n",
    "# Gerente que también es voluntario\n",
    "g1 = GerenteVoluntario(\"Laura\", 2500, \"Literatura\", 6)\n",
    "g1.mostrar_info()\n",
    "g1.mostrar_voluntariado()\n",
    "print()\n",
    "\n",
    "# Técnico con rol adicional de mantenimiento\n",
    "mantenimiento = Mantenimiento(\"equipos informáticos\")\n",
    "t1 = TecnicoConRol(\"Carlos\", 1800, \"Sistemas\", mantenimiento)\n",
    "t1.mostrar_info()\n",
    "t1.rol_extra.reparar()\n",
    "print()\n",
    "\n",
    "# Gerente con rol de administrador\n",
    "admin = Administrador(\"senior\")\n",
    "g2 = Gerente(\"María\", 3000, \"General\")\n",
    "g2.rol_admin = admin  # Se agrega rol mediante composición\n",
    "g2.mostrar_info()\n",
    "g2.rol_admin.gestionar()"
   ]
  },
  {
   "cell_type": "markdown",
   "metadata": {},
   "source": [
    "Se define la clase base Empleado con atributos comunes como nombre y salario, y luego se crean subclases Gerente y Tecnico que heredan de ella y agregan atributos específicos como departamento o especialidad. La clase Voluntario se implementa de manera independiente y se combina con Gerente mediante herencia múltiple para crear GerenteVoluntario. Además, se introducen clases como Administrador y Mantenimiento que se usan mediante composición, asignando roles adicionales a los empleados sin modificar la jerarquía de herencia. Finalmente, se instancian objetos que muestran cómo se pueden mezclar herencia simple, múltiple y composición para representar de manera flexible diferentes tipos de empleados y roles dentro de la biblioteca."
   ]
  },
  {
   "cell_type": "markdown",
   "metadata": {},
   "source": [
    "## Referencias\n",
    "\n",
    "- [Documentación oficial de Python sobre herencia](https://docs.python.org/3/tutorial/classes.html#inheritance)\n",
    "- [Real Python: Inheritance and Composition](https://realpython.com/inheritance-composition-python/)\n",
    "- [Python Course: Inheritance](https://www.python-course.eu/python3_inheritance.php)\n"
   ]
  }
 ],
 "metadata": {
  "kernelspec": {
   "display_name": "venv",
   "language": "python",
   "name": "python3"
  },
  "language_info": {
   "codemirror_mode": {
    "name": "ipython",
    "version": 3
   },
   "file_extension": ".py",
   "mimetype": "text/x-python",
   "name": "python",
   "nbconvert_exporter": "python",
   "pygments_lexer": "ipython3",
   "version": "3.11.1"
  },
  "orig_nbformat": 4
 },
 "nbformat": 4,
 "nbformat_minor": 2
}
