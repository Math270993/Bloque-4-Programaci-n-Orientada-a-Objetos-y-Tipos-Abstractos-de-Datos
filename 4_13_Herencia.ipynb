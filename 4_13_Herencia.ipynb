{
 "cells": [
  {
   "cell_type": "markdown",
   "metadata": {},
   "source": [
    "# Introducción a la Herencia\n",
    "\n",
    "En nuestro viaje por el mundo de la Programación Orientada a Objetos (POO), hemos creado clases que representan entidades en una biblioteca, como `Autor` y `Libro`. Pero, ¿qué pasa si queremos crear nuevas clases que compartan características con las ya existentes, pero con algunas diferencias o adicionales? ¡Aquí es donde entra en juego la herencia!\n",
    "\n",
    "### Pregunta problema: \n",
    "¿Cómo podemos extender nuestras clases existentes para representar diferentes tipos de autores o libros, sin tener que reescribir todo el código?\n",
    "\n"
   ]
  },
  {
   "cell_type": "code",
   "execution_count": 3,
   "metadata": {},
   "outputs": [],
   "source": [
    "# Definimos la clase base Autor\n",
    "class Autor:\n",
    "    def __init__(self, nombre):\n",
    "        self.nombre = nombre"
   ]
  },
  {
   "cell_type": "markdown",
   "metadata": {},
   "source": [
    "## Conceptos clave de la herencia\n",
    "\n",
    "La **herencia** permite que una clase (llamada subclase o clase hija) herede atributos y métodos de otra clase (llamada superclase o clase base). La herencia facilita la reutilización y extensión del código.\n",
    "\n",
    "- **Herencia simple:** Una clase deriva de una única clase base.\n",
    "- **Herencia múltiple:** Una clase puede derivar de varias clases base.\n",
    "- **super():** Función que permite llamar a métodos de la clase base desde la clase derivada."
   ]
  },
  {
   "cell_type": "code",
   "execution_count": 4,
   "metadata": {},
   "outputs": [],
   "source": [
    "# Creamos una subclase Escritor que hereda de Autor\n",
    "class Escritor(Autor):\n",
    "    def __init__(self, nombre, genero):\n",
    "        super().__init__(nombre)\n",
    "        self.genero = genero"
   ]
  },
  {
   "cell_type": "markdown",
   "metadata": {},
   "source": [
    "## Ejemplos prácticos de Herencia\n",
    "\n",
    "Vamos a extender nuestra clase `Autor` para crear una nueva clase `Escritor` que tenga un atributo adicional: el género literario principal en el que escribe.\n"
   ]
  },
  {
   "cell_type": "code",
   "execution_count": 5,
   "metadata": {},
   "outputs": [
    {
     "name": "stdout",
     "output_type": "stream",
     "text": [
      "Mario Benedetti Realismo Social\n"
     ]
    }
   ],
   "source": [
    "# Instanciamos un objeto de la clase Escritor\n",
    "escritor = Escritor(\"Mario Benedetti\", \"Realismo Social\")\n",
    "print(escritor.nombre, escritor.genero)"
   ]
  },
  {
   "cell_type": "markdown",
   "metadata": {},
   "source": [
    "## Herencia Múltiple\n",
    "\n",
    "En Python, una clase puede heredar de varias clases base, lo que se conoce como herencia múltiple. Aunque puede ser útil, también puede llevar a complicaciones si varias clases base tienen atributos o métodos con el mismo nombre.\n"
   ]
  },
  {
   "cell_type": "code",
   "execution_count": 6,
   "metadata": {},
   "outputs": [],
   "source": [
    "# Definimos una segunda clase base\n",
    "class Academico:\n",
    "    def __init__(self, universidad):\n",
    "        self.universidad = universidad\n",
    "\n",
    "# Creamos una clase que hereda de Escritor y Academico\n",
    "class EscritorAcademico(Escritor, Academico):\n",
    "    def __init__(self, nombre, genero, universidad):\n",
    "        Escritor.__init__(self, nombre, genero)\n",
    "        Academico.__init__(self, universidad)"
   ]
  },
  {
   "cell_type": "markdown",
   "metadata": {},
   "source": [
    "## Desafíos\n",
    "\n",
    "### Desafío 57: \n",
    "Implementa una clase Poeta que herede de Autor y tenga un atributo para el tipo de poesía que escribe.\n"
   ]
  },
  {
   "cell_type": "code",
   "execution_count": null,
   "metadata": {},
   "outputs": [],
   "source": [
    "# Clase base\n",
    "class Autor:\n",
    "    def __init__(self, nombre):\n",
    "        self.nombre = nombre\n",
    "\n",
    "# Subclase que hereda de Autor\n",
    "class Poeta(Autor):\n",
    "    def __init__(self, nombre, tipo_poesia):\n",
    "        super().__init__(nombre)\n",
    "        self.tipo_poesia = tipo_poesia\n",
    "\n",
    "# Ejemplo:\n",
    "poeta = Poeta(\"Pablo Neruda\", \"Poesía lírica\")\n",
    "print(poeta.nombre, \"-\", poeta.tipo_poesia)"
   ]
  },
  {
   "cell_type": "markdown",
   "metadata": {},
   "source": [
    "Se toma la subclcase Poeta de Autor, por lo que hereda su atributo nombre. Luego, se agrega un nuevo atributo propio llamado tipo_poesia, que representa el estilo o género poético en el que se especializa el poeta. Para ello, se define el método __init__ dentro de Poeta, y se utiliza la función super() para invocar el constructor de la clase base y asignar el nombre del autor. Finalmente, se inicializa el nuevo atributo con el valor recibido al crear el objeto. De esta manera, se logra extender la funcionalidad de Autor sin duplicar código y adaptarla a un nuevo contexto."
   ]
  },
  {
   "cell_type": "markdown",
   "metadata": {},
   "source": [
    "### Desafío 58:\n",
    "Crea una clase Bibliotecario que herede de Usuario y tenga atributos específicos como sección y años_experiencia.\n",
    "\n"
   ]
  },
  {
   "cell_type": "code",
   "execution_count": null,
   "metadata": {},
   "outputs": [],
   "source": [
    "# Clase base\n",
    "class Usuario:\n",
    "    def __init__(self, nombre, id_usuario):\n",
    "        self.nombre = nombre\n",
    "        self.id_usuario = id_usuario\n",
    "\n",
    "# Subclase que hereda de Usuario\n",
    "class Bibliotecario(Usuario):\n",
    "    def __init__(self, nombre, id_usuario, seccion, años_experiencia):\n",
    "        super().__init__(nombre, id_usuario)\n",
    "        self.seccion = seccion\n",
    "        self.años_experiencia = años_experiencia\n",
    "\n",
    "# Ejemplo:\n",
    "biblio = Bibliotecario(\"Laura Gómez\", 101, \"Literatura\", 8)\n",
    "print(biblio.nombre, biblio.seccion, biblio.años_experiencia)"
   ]
  },
  {
   "cell_type": "markdown",
   "metadata": {},
   "source": [
    "Se crea una clase base llamada Usuario, que contenga los atributos y comportamientos comunes a todos los usuarios de la biblioteca (por ejemplo, nombre y id_usuario). Luego, se define la nueva clase Bibliotecario indicando entre paréntesis que hereda de Usuario, que permite reutilizar sus atributos y métodos sin tener que reescribirlos. En el método __init__ de Bibliotecario, se utiliza la función super() para llamar al constructor de la clase base e inicializar los atributos heredados. Después, se agrega los nuevos atributos específicos de esta subclase, como seccion y años_experiencia. Finalmente, se puede crear instancias de la clase y verificar que contengan tanto los atributos heredados como los nuevos."
   ]
  },
  {
   "cell_type": "markdown",
   "metadata": {},
   "source": [
    "### Desafío 59:\n",
    "Diseña una clase LibroDigital que herede de Libro y añada atributos como formato (e.g., PDF, EPUB) y tamaño_archivo. Además, implementa una subclase EBook que sobrescriba un método para mostrar información específica, como enlaces de descarga.\n",
    "\n"
   ]
  },
  {
   "cell_type": "code",
   "execution_count": null,
   "metadata": {},
   "outputs": [],
   "source": [
    "# Clase base\n",
    "class Libro:\n",
    "    def __init__(self, titulo, autor, anio_publicacion):\n",
    "        self.titulo = titulo\n",
    "        self.autor = autor\n",
    "        self.anio_publicacion = anio_publicacion\n",
    "\n",
    "    def mostrar_info(self):\n",
    "        print(f\"Título: {self.titulo}\")\n",
    "        print(f\"Autor: {self.autor}\")\n",
    "        print(f\"Año de publicación: {self.anio_publicacion}\")\n",
    "        \n",
    "        # Subclase que hereda de Libro\n",
    "class LibroDigital(Libro):\n",
    "    def __init__(self, titulo, autor, anio_publicacion, formato, tamaño_archivo):\n",
    "        super().__init__(titulo, autor, anio_publicacion)\n",
    "        self.formato = formato\n",
    "        self.tamaño_archivo = tamaño_archivo\n",
    "\n",
    "    # Se sobrescribe el método para incluir los nuevos atributos\n",
    "    def mostrar_info(self):\n",
    "        super().mostrar_info()\n",
    "        print(f\"Formato: {self.formato}\")\n",
    "        print(f\"Tamaño del archivo: {self.tamaño_archivo} MB\")\n",
    "        \n",
    "        # Subclase que hereda de LibroDigital\n",
    "class EBook(LibroDigital):\n",
    "    def __init__(self, titulo, autor, anio_publicacion, formato, tamaño_archivo, enlace_descarga):\n",
    "        super().__init__(titulo, autor, anio_publicacion, formato, tamaño_archivo)\n",
    "        self.enlace_descarga = enlace_descarga\n",
    "\n",
    "    # Se sobrescribe mostrar_info() para incluir el enlace de descarga\n",
    "    def mostrar_info(self):\n",
    "        super().mostrar_info()\n",
    "        print(f\"Enlace de descarga: {self.enlace_descarga}\")\n",
    "        \n",
    "        # Se crea una instancia de EBook\n",
    "ebook = EBook(\n",
    "    \"La tregua\",\n",
    "    \"Mario Benedetti\",\n",
    "    1960,\n",
    "    \"EPUB\",\n",
    "    2.4,\n",
    "    \"https://biblioteca.ejemplo.com/latregua\"\n",
    ")\n",
    "\n",
    "# Se muestra la información completa\n",
    "ebook.mostrar_info()"
   ]
  },
  {
   "cell_type": "markdown",
   "metadata": {},
   "source": [
    "### Desafío 60:\n",
    "Implementa una clase EscritorAcademico que herede de Escritor y Academico, e incluya un método adicional para publicar artículos académicos. Asegúrate de utilizar correctamente la función super() para inicializar las clases base.\n",
    "\n"
   ]
  },
  {
   "cell_type": "code",
   "execution_count": null,
   "metadata": {},
   "outputs": [],
   "source": [
    "# Clase base Autor\n",
    "class Autor:\n",
    "    def __init__(self, nombre):\n",
    "        self.nombre = nombre\n",
    "\n",
    "\n",
    "# Subclase Escritor que hereda de Autor\n",
    "class Escritor(Autor):\n",
    "    def __init__(self, nombre, genero):\n",
    "        super().__init__(nombre)\n",
    "        self.genero = genero\n",
    "\n",
    "\n",
    "# Segunda clase base: Academico\n",
    "class Academico:\n",
    "    def __init__(self, universidad):\n",
    "        self.universidad = universidad\n",
    "        \n",
    "        # Subclase que hereda de Escritor y Academico\n",
    "class EscritorAcademico(Escritor, Academico):\n",
    "    def __init__(self, nombre, genero, universidad):\n",
    "        # Usamos super() para inicializar las clases base en orden MRO\n",
    "        super().__init__(nombre, genero)\n",
    "        self.universidad = universidad\n",
    "\n",
    "    # Método adicional\n",
    "    def publicar_articulo(self, titulo):\n",
    "        print(f\"{self.nombre} ha publicado un artículo titulado '{titulo}' en la universidad {self.universidad}.\")\n",
    "        \n",
    "        #Ejemplo:\n",
    "        # Se instancia un objeto de EscritorAcademico\n",
    "escritor_acad = EscritorAcademico(\"Eduardo Galeano\", \"Crónica\", \"UDELAR\")\n",
    "\n",
    "# Se prueba el método adicional\n",
    "escritor_acad.publicar_articulo(\"Memoria e identidad en América Latina\")"
   ]
  },
  {
   "cell_type": "markdown",
   "metadata": {},
   "source": [
    "Se definen las clases base necesarias: Autor, que almacena el nombre del autor; Escritor, que hereda de Autor y agrega el atributo género literario; y Academico, que representa la institución universitaria asociada. Luego, se implementa la clase EscritorAcademico, la cual hereda de Escritor y Academico mediante herencia múltiple, permitiendo combinar las características de ambas. En su constructor (__init__), se utiliza la función super() para inicializar correctamente los atributos heredados según el orden de resolución de métodos (MRO), garantizando que las clases base se inicialicen sin duplicación de código. Finalmente, se añade el método publicar_articulo(), que imprime un mensaje indicando que el escritor académico ha publicado un artículo, integrando así la funcionalidad literaria y académica en una misma clase."
   ]
  },
  {
   "cell_type": "markdown",
   "metadata": {},
   "source": [
    "### Desafío 61:\n",
    "Crea una jerarquía de clases para representar diferentes tipos de empleados en una biblioteca, utilizando herencia múltiple y composición. Por ejemplo, implementa clases como Empleado, Gerente, Tecnico, y Voluntario, donde Gerente y Tecnico hereden de Empleado, y algunos puedan tener roles adicionales mediante composición con otras clases como Administrador o Mantenimiento.\n",
    "\n"
   ]
  },
  {
   "cell_type": "code",
   "execution_count": null,
   "metadata": {},
   "outputs": [],
   "source": [
    "# Clase base Empleado\n",
    "class Empleado:\n",
    "    def __init__(self, nombre, salario):\n",
    "        self.nombre = nombre\n",
    "        self.salario = salario\n",
    "\n",
    "    def mostrar_info(self):\n",
    "        return f\"Empleado: {self.nombre}, Salario: ${self.salario}\"\n",
    "\n",
    "\n",
    "# Subclases que heredan de Empleado\n",
    "class Gerente(Empleado):\n",
    "    def __init__(self, nombre, salario, departamento):\n",
    "        super().__init__(nombre, salario)\n",
    "        self.departamento = departamento\n",
    "\n",
    "    def mostrar_info(self):\n",
    "        return f\"Gerente: {self.nombre}, Departamento: {self.departamento}, Salario: ${self.salario}\"\n",
    "\n",
    "\n",
    "class Tecnico(Empleado):\n",
    "    def __init__(self, nombre, salario, especialidad):\n",
    "        super().__init__(nombre, salario)\n",
    "        self.especialidad = especialidad\n",
    "\n",
    "    def mostrar_info(self):\n",
    "        return f\"Técnico: {self.nombre}, Especialidad: {self.especialidad}, Salario: ${self.salario}\"\n",
    "\n",
    "\n",
    "# Clases para roles adicionales (composición)\n",
    "class Administrador:\n",
    "    def __init__(self, permisos):\n",
    "        self.permisos = permisos\n",
    "\n",
    "    def mostrar_rol(self):\n",
    "        return f\"Rol adicional: Administrador, Permisos: {', '.join(self.permisos)}\"\n",
    "\n",
    "\n",
    "class Mantenimiento:\n",
    "    def __init__(self, area):\n",
    "        self.area = area\n",
    "\n",
    "    def mostrar_rol(self):\n",
    "        return f\"Rol adicional: Mantenimiento, Área: {self.area}\"\n",
    "\n",
    "\n",
    "# Clase Voluntario (no hereda de Empleado)\n",
    "class Voluntario:\n",
    "    def __init__(self, nombre, horas_semana):\n",
    "        self.nombre = nombre\n",
    "        self.horas_semana = horas_semana\n",
    "\n",
    "    def mostrar_info(self):\n",
    "        return f\"Voluntario: {self.nombre}, Horas por semana: {self.horas_semana}\"\n",
    "\n",
    "\n",
    "# Gerente con rol de Administrador (composición)\n",
    "class GerenteAdministrador(Gerente):\n",
    "    def __init__(self, nombre, salario, departamento, permisos):\n",
    "        super().__init__(nombre, salario, departamento)\n",
    "        self.administrador = Administrador(permisos)\n",
    "\n",
    "    def mostrar_info_completo(self):\n",
    "        return f\"{self.mostrar_info()} | {self.administrador.mostrar_rol()}\"\n",
    "\n",
    "\n",
    "# Técnico con rol de Mantenimiento (composición)\n",
    "class TecnicoMantenimiento(Tecnico):\n",
    "    def __init__(self, nombre, salario, especialidad, area):\n",
    "        super().__init__(nombre, salario, especialidad)\n",
    "        self.mantenimiento = Mantenimiento(area)\n",
    "\n",
    "    def mostrar_info_completo(self):\n",
    "        return f\"{self.mostrar_info()} | {self.mantenimiento.mostrar_rol()}\"\n",
    "\n",
    "\n",
    "# Ejemplo:\n",
    "\n",
    "gerente_admin = GerenteAdministrador(\"Laura\", 5000, \"Biblioteca Central\", [\"Gestionar inventario\", \"Contrataciones\"])\n",
    "tecnico_mant = TecnicoMantenimiento(\"Carlos\", 3000, \"Redes\", \"Salas de lectura\")\n",
    "voluntario = Voluntario(\"Ana\", 10)\n",
    "\n",
    "print(gerente_admin.mostrar_info_completo())\n",
    "print(tecnico_mant.mostrar_info_completo())\n",
    "print(voluntario.mostrar_info())"
   ]
  },
  {
   "cell_type": "markdown",
   "metadata": {},
   "source": [
    "Se define la clase base Empleado, que contiene atributos generales como nombre y salario y un método para mostrar la información. A partir de ella, se crea las subclases Gerente y Tecnico, que heredan de Empleado y agregan atributos específicos, como departamento o especialidad, se sobrescribe el método de mostrar información para incluir estos detalles. Luego se define clases independientes para roles adicionales mediante composición: Administrador y Mantenimiento, que encapsulan responsabilidades extra de ciertos empleados y cuentan con métodos propios para describir su rol. También se incluye la clase Voluntario, que no hereda de Empleado, pero tiene atributos y métodos específicos para su función. Finalmente, se combinan herencia y composición en clases más especializadas: GerenteAdministrador y TecnicoMantenimiento, que heredan de Gerente y Tecnico respectivamente, e incluyen instancias de Administrador o Mantenimiento para añadir roles adicionales."
   ]
  },
  {
   "cell_type": "markdown",
   "metadata": {},
   "source": [
    "## Referencias\n",
    "\n",
    "- [Documentación oficial de Python sobre herencia](https://docs.python.org/3/tutorial/classes.html#inheritance)\n",
    "- [Real Python: Inheritance and Composition](https://realpython.com/inheritance-composition-python/)\n",
    "- [Python Course: Inheritance](https://www.python-course.eu/python3_inheritance.php)\n"
   ]
  }
 ],
 "metadata": {
  "kernelspec": {
   "display_name": "venv",
   "language": "python",
   "name": "python3"
  },
  "language_info": {
   "codemirror_mode": {
    "name": "ipython",
    "version": 3
   },
   "file_extension": ".py",
   "mimetype": "text/x-python",
   "name": "python",
   "nbconvert_exporter": "python",
   "pygments_lexer": "ipython3",
   "version": "3.11.1"
  },
  "orig_nbformat": 4
 },
 "nbformat": 4,
 "nbformat_minor": 2
}
