{
  "cells": [
    {
      "cell_type": "markdown",
      "metadata": {},
      "source": [
        "## Introducción al Encapsulamiento y acceso a miembros\n",
        "\n",
        "El encapsulamiento es uno de los cuatro pilares fundamentales de la Programación Orientada a Objetos (POO). Se refiere a la restricción del acceso a ciertos componentes de un objeto, asegurando que solo se pueda acceder a ciertos atributos y métodos de un objeto desde fuera de la clase de la manera deseada.\n",
        "\n",
        "### Pregunta problema: \n",
        "Imagina que estás diseñando una clase Autor para una biblioteca. ¿Cómo puedes garantizar que ciertos atributos, como el nombre, la nacionalidad o la fecha de nacimiento, no sean modificados accidentalmente o accedidos de manera inapropiada?"
      ]
    },
    {
      "cell_type": "markdown",
      "metadata": {},
      "source": [
        "## Conceptos clave\n",
        "\n",
        "_Encapsulamiento:_ Es la técnica de hacer que los campos de una clase sean privados o protegidos y proporcionar acceso a través de métodos públicos.\n",
        "\n",
        "Diferencias entre \"_\" y \"__\" en Python:\n",
        "\n",
        "_: Se utiliza para indicar que un atributo o método es protegido. Aunque técnicamente aún es accesible desde fuera de la clase, por convención se entiende que no debe ser accedido directamente. Sin embargo, esta protección es solo una convención y no impide realmente el acceso.\n",
        "\n",
        "__: Se utiliza para indicar que un atributo o método es privado. Esto modifica el nombre del atributo/método de manera que es más difícil de acceder desde fuera de la clase, proporcionando una capa adicional de seguridad."
      ]
    },
    {
      "cell_type": "markdown",
      "metadata": {},
      "source": [
        "## Ejemplos prácticos"
      ]
    },
    {
      "cell_type": "markdown",
      "metadata": {},
      "source": [
        "### Clase Autor con atributos públicos:"
      ]
    },
    {
      "cell_type": "code",
      "execution_count": null,
      "metadata": {},
      "outputs": [],
      "source": [
        "class Autor:\n",
        "    def __init__(self, nombre, nacionalidad):\n",
        "        self.nombre = nombre\n",
        "        self.nacionalidad = nacionalidad\n",
        "\n",
        "    def mostrar_autor(self):\n",
        "        print(f\"Nombre: {self.nombre}\")\n",
        "        print(f\"Nacionalidad: {self.nacionalidad}\")\n"
      ]
    },
    {
      "cell_type": "markdown",
      "metadata": {},
      "source": [
        "Este diseño, aunque funcional, no protege los atributos nombre y nacionalidad de modificaciones no deseadas.\n",
        "\n",
        "### Clase Autor con atributos protegidos:"
      ]
    },
    {
      "cell_type": "code",
      "execution_count": null,
      "metadata": {},
      "outputs": [],
      "source": [
        "class Autor:\n",
        "    def __init__(self, nombre, nacionalidad):\n",
        "        self._nombre = nombre\n",
        "        self._nacionalidad = nacionalidad\n"
      ]
    },
    {
      "cell_type": "markdown",
      "metadata": {},
      "source": [
        "Aquí, hemos marcado los atributos como protegidos usando un solo guion bajo. Esto indica que no deben ser accedidos directamente, pero aún es posible hacerlo.\n",
        "\n",
        "### Clase Autor con atributos privados y métodos getter y setter:"
      ]
    },
    {
      "cell_type": "code",
      "execution_count": null,
      "metadata": {},
      "outputs": [],
      "source": [
        "class Autor:\n",
        "    def __init__(self, nombre, nacionalidad):\n",
        "        self.__nombre = nombre\n",
        "        self.__nacionalidad = nacionalidad\n",
        "\n",
        "    def get_nombre(self):\n",
        "        return self.__nombre\n",
        "\n",
        "    def set_nombre(self, nombre):\n",
        "        self.__nombre = nombre\n",
        "\n",
        "    def get_nacionalidad(self):\n",
        "        return self.__nacionalidad\n",
        "\n",
        "    def set_nacionalidad(self, nacionalidad):\n",
        "        self.__nacionalidad = nacionalidad\n"
      ]
    },
    {
      "cell_type": "markdown",
      "metadata": {},
      "source": [
        "Con los atributos marcados como privados, ahora es mucho más difícil acceder a ellos desde fuera de la clase. Los métodos getter y setter nos permiten controlar cómo se accede y modifica la información."
      ]
    },
    {
      "cell_type": "markdown",
      "metadata": {},
      "source": [
        "## Encapsulamiento de métodos\n",
        "\n",
        "El encapsulamiento no se limita solo a los atributos; también podemos encapsular métodos. Esto será explorado en profundidad en el tema de polimorfismo."
      ]
    },
    {
      "cell_type": "markdown",
      "metadata": {},
      "source": [
        "## Desafíos"
      ]
    },
    {
      "cell_type": "markdown",
      "metadata": {},
      "source": [
        "### Desafío 52: \n",
        "Crea una clase Libro que tenga atributos privados para el título, autor y ISBN. Proporciona métodos getter y setter para cada atributo."
      ]
    },
    {
      "cell_type": "code",
      "execution_count": null,
      "metadata": {},
      "outputs": [],
      "source": [
        "class Libro:\n",
        "    def __init__(self, titulo, autor, isbn):\n",
        "        self.__titulo = titulo\n",
        "        self.__autor = autor\n",
        "        self.__isbn = isbn\n",
        "\n",
        "    # Getter y Setter para título\n",
        "    def get_titulo(self):\n",
        "        return self.__titulo\n",
        "\n",
        "    def set_titulo(self, titulo):\n",
        "        self.__titulo = titulo\n",
        "\n",
        "    # Getter y Setter para autor\n",
        "    def get_autor(self):\n",
        "        return self.__autor\n",
        "\n",
        "    def set_autor(self, autor):\n",
        "        self.__autor = autor\n",
        "\n",
        "    # Getter y Setter para ISBN\n",
        "    def get_isbn(self):\n",
        "        return self.__isbn\n",
        "\n",
        "    def set_isbn(self, isbn):\n",
        "        self.__isbn = isbn\n",
        "\n",
        "    # Método adicional para mostrar la información del libro\n",
        "    def mostrar_info(self):\n",
        "        print(f\"Título: {self.__titulo}\")\n",
        "        print(f\"Autor: {self.__autor}\")\n",
        "        print(f\"ISBN: {self.__isbn}\")\n",
        "        \n",
        "        # Se crea un objeto de la clase Libro\n",
        "libro1 = Libro(\"Cien años de soledad\", \"Gabriel García Márquez\", \"978-0307474728\")\n",
        "\n",
        "# Se muestra la información del libro\n",
        "libro1.mostrar_info()\n",
        "\n",
        "# Se modifican atributos mediante los setters\n",
        "libro1.set_titulo(\"El amor en los tiempos del cólera\")\n",
        "libro1.set_isbn(\"978-0307389732\")\n",
        "\n",
        "print(\"\\nDespués de modificar los datos:\")\n",
        "libro1.mostrar_info()\n"
      ]
    },
    {
      "cell_type": "markdown",
      "metadata": {},
      "source": [
        "Se crea una clase llamada Libro que aplica el principio de encapsulamiento para proteger los datos internos del objeto. Para ello, se definen los atributos privados __titulo, __autor y __isbn, utilizando el prefijo de doble guion bajo, que impide acceder directamente a ellos desde fuera de la clase. Luego, se implementa los métodos getter y setter para cada atributo: los getters (get_titulo, get_autor, get_isbn) permiten obtener el valor almacenado, mientras que los setters (set_titulo, set_autor, set_isbn) controlan las modificaciones, asegurando un acceso seguro a la información. Además, se añade el método mostrar_info() para visualizar los datos del libro de manera ordenada. "
      ]
    },
    {
      "cell_type": "markdown",
      "metadata": {},
      "source": [
        "### Desafío 53:\n",
        "Modifica la clase Autor para que pueda tener una lista de libros escritos por el autor. Proporciona un método para agregar libros a esta lista."
      ]
    },
    {
      "cell_type": "code",
      "execution_count": null,
      "metadata": {},
      "outputs": [],
      "source": [
        "class Autor:\n",
        "    def __init__(self, nombre, nacionalidad):\n",
        "        self.__nombre = nombre\n",
        "        self.__nacionalidad = nacionalidad\n",
        "        self.__libros = []  # Lista privada de libros\n",
        "\n",
        "    def get_nombre(self):\n",
        "        return self.__nombre\n",
        "\n",
        "    def get_nacionalidad(self):\n",
        "        return self.__nacionalidad\n",
        "\n",
        "    def agregar_libro(self, titulo):\n",
        "        self.__libros.append(titulo)\n",
        "\n",
        "    def mostrar_libros(self):\n",
        "        if self.__libros:\n",
        "            print(f\"Libros de {self.__nombre}:\")\n",
        "            for libro in self.__libros:\n",
        "                print(f\"- {libro}\")\n",
        "        else:\n",
        "            print(f\"{self.__nombre} aún no tiene libros registrados.\")\n",
        "\n",
        "\n",
        "# Ejemplo:\n",
        "autor1 = Autor(\"Julio Cortázar\", \"Argentina\")\n",
        "autor1.agregar_libro(\"Rayuela\")\n",
        "autor1.agregar_libro(\"Bestiario\")\n",
        "autor1.mostrar_libros()"
      ]
    },
    {
      "cell_type": "markdown",
      "metadata": {},
      "source": [
        "Se modifica la clase Autor agregando un nuevo atributo privado __libros, que almacena una lista con los títulos de los libros escritos por el autor. Se añade el método agregar_libro() para incorporar nuevos títulos a la lista, y el método mostrar_libros() para mostrar todos los libros registrados. De esta forma, se aplica el encapsulamiento tanto en los datos del autor como en la gestión de su producción literaria. "
      ]
    },
    {
      "cell_type": "markdown",
      "metadata": {},
      "source": [
        "### Desafío 54:\n",
        "Implementa la clase Autor con métodos getter y setter utilizando decoradores @property para manejar los atributos privados nombre y nacionalidad."
      ]
    },
    {
      "cell_type": "code",
      "execution_count": null,
      "metadata": {},
      "outputs": [],
      "source": [
        "class Autor:\n",
        "    def __init__(self, nombre, nacionalidad):\n",
        "        self.__nombre = nombre\n",
        "        self.__nacionalidad = nacionalidad\n",
        "\n",
        "    @property\n",
        "    def nombre(self):\n",
        "        return self.__nombre\n",
        "\n",
        "    @nombre.setter\n",
        "    def nombre(self, nuevo_nombre):\n",
        "        self.__nombre = nuevo_nombre\n",
        "\n",
        "    @property\n",
        "    def nacionalidad(self):\n",
        "        return self.__nacionalidad\n",
        "\n",
        "    @nacionalidad.setter\n",
        "    def nacionalidad(self, nueva_nacionalidad):\n",
        "        self.__nacionalidad = nueva_nacionalidad\n",
        "\n",
        "# Ejemplo\n",
        "autor1 = Autor(\"Julio Cortázar\", \"Argentina\")\n",
        "print(autor1.nombre)            # Acceso con @property\n",
        "autor1.nombre = \"J. Cortázar\"   # Modificación con @setter\n",
        "print(autor1.nombre)"
      ]
    },
    {
      "cell_type": "markdown",
      "metadata": {},
      "source": [
        "Se implementa la clase Autor aplicando el principio de encapsulamiento mediante los decoradores @property y @atributo.setter. Estos permiten definir métodos que se comportan como si fueran atributos, facilitando un acceso controlado y más legible al mismo tiempo. En el código, los atributos __nombre y __nacionalidad se declaran como privados, y luego se crean las propiedades nombre y nacionalidad para leer y modificar sus valores de forma segura. De esta manera, el programador puede acceder a los datos sin utilizar métodos explícitos como get_nombre() o set_nombre()."
      ]
    },
    {
      "cell_type": "markdown",
      "metadata": {},
      "source": [
        "### Desafío 55:\n",
        "Crea una función que tome un objeto Autor y devuelva una lista de todos los títulos de libros escritos por el autor. Asegúrate de que la lista de libros sea accesible solo a través de métodos de la clase Autor."
      ]
    },
    {
      "cell_type": "code",
      "execution_count": null,
      "metadata": {},
      "outputs": [],
      "source": [
        "class Autor:\n",
        "    def __init__(self, nombre, nacionalidad):\n",
        "        self.__nombre = nombre\n",
        "        self.__nacionalidad = nacionalidad\n",
        "        self.__libros = []  # atributo privado\n",
        "\n",
        "    def agregar_libro(self, titulo):\n",
        "        self.__libros.append(titulo)\n",
        "\n",
        "    def get_libros(self):\n",
        "        return self.__libros\n",
        "\n",
        "def obtener_titulos(autor):\n",
        "    return autor.get_libros()\n",
        "\n",
        "# Ejemplo:\n",
        "autor1 = Autor(\"Julio Cortázar\", \"Argentina\")\n",
        "autor1.agregar_libro(\"Rayuela\")\n",
        "autor1.agregar_libro(\"Bestiario\")\n",
        "autor1.agregar_libro(\"Final del juego\")\n",
        "\n",
        "titulos = obtener_titulos(autor1)\n",
        "print(\"Libros del autor:\", titulos)"
      ]
    },
    {
      "cell_type": "markdown",
      "metadata": {},
      "source": [
        "Se implementa una clase Autor que encapsula tanto los atributos personales del autor como su lista de libros. Los atributos se declaran como privados utilizando __, de modo que no puedan ser accedidos ni modificados directamente desde fuera de la clase. Se crean métodos públicos (get_libros() y agregar_libro()) que permiten acceder y modificar la lista de manera controlada. Luego, se define una función externa llamada obtener_titulos(autor) que recibe un objeto Autor y devuelve la lista de títulos utilizando el método get_libros()."
      ]
    },
    {
      "cell_type": "markdown",
      "metadata": {},
      "source": [
        "### Desafío 56:\n",
        "Desarrolla una función que reciba una lista de objetos Autor y devuelva el autor que ha escrito el mayor número de libros. Utiliza el encapsulamiento para acceder a la información necesaria de cada objeto Autor."
      ]
    },
    {
      "cell_type": "code",
      "execution_count": null,
      "metadata": {},
      "outputs": [],
      "source": [
        "class Autor:\n",
        "    def __init__(self, nombre, nacionalidad, cantidad_libros):\n",
        "        self.__nombre = nombre\n",
        "        self.__nacionalidad = nacionalidad\n",
        "        self.__cantidad_libros = cantidad_libros\n",
        "\n",
        "    # Métodos getter\n",
        "    def get_nombre(self):\n",
        "        return self.__nombre\n",
        "\n",
        "    def get_nacionalidad(self):\n",
        "        return self.__nacionalidad\n",
        "\n",
        "    def get_cantidad_libros(self):\n",
        "        return self.__cantidad_libros\n",
        "\n",
        "\n",
        "def autor_mas_libros(lista_autores):\n",
        "    \"\"\"Devuelve el autor con mayor cantidad de libros publicados.\"\"\"\n",
        "    if not lista_autores:\n",
        "        return None\n",
        "    autor_max = lista_autores[0]\n",
        "    for autor in lista_autores[1:]:\n",
        "        if autor.get_cantidad_libros() > autor_max.get_cantidad_libros():\n",
        "            autor_max = autor\n",
        "    return autor_max\n",
        "\n",
        "\n",
        "# Ejemplo:\n",
        "autor1 = Autor(\"Isabel Allende\", \"Chilena\", 25)\n",
        "autor2 = Autor(\"Gabriel García Márquez\", \"Colombiano\", 18)\n",
        "autor3 = Autor(\"J.K. Rowling\", \"Británica\", 30)\n",
        "\n",
        "lista = [autor1, autor2, autor3]\n",
        "mayor = autor_mas_libros(lista)\n",
        "print(f\"El autor con más libros es {mayor.get_nombre()} ({mayor.get_nacionalidad()}) con {mayor.get_cantidad_libros()} libros.\")"
      ]
    },
    {
      "cell_type": "markdown",
      "metadata": {},
      "source": [
        "Se define una clase Autor con los atributos privados __nombre, __nacionalidad y __cantidad_libros, a los que se accede mediante métodos getter, aplicando el principio de encapsulamiento. Luego, se crea la función autor_mas_libros, que recibe una lista de objetos Autor y recorre cada uno comparando la cantidad de libros publicados a través del método get_cantidad_libros(). El autor con el mayor número de libros se guarda y se devuelve al final. "
      ]
    },
    {
      "cell_type": "markdown",
      "metadata": {},
      "source": [
        "## Referencias"
      ]
    },
    {
      "cell_type": "markdown",
      "metadata": {},
      "source": [
        "- [Enlace a Recurso 1](#)\n",
        "- [Enlace a Recurso 2](#)"
      ]
    }
  ],
  "metadata": {
    "kernelspec": {
      "display_name": "Python 3",
      "language": "python",
      "name": "python3"
    },
    "language_info": {
      "codemirror_mode": {
        "name": "ipython",
        "version": 3
      },
      "file_extension": ".py",
      "mimetype": "text/x-python",
      "name": "python",
      "nbconvert_exporter": "python",
      "pygments_lexer": "ipython3",
      "version": "3.8.5"
    }
  },
  "nbformat": 4,
  "nbformat_minor": 4
}
