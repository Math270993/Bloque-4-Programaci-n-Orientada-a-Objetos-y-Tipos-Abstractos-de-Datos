{
 "cells": [
  {
   "cell_type": "markdown",
   "metadata": {},
   "source": [
    "# Polimorfismo\n",
    "\n",
    "El polimorfismo es otro concepto fundamental en la Programación Orientada a Objetos que permite que un objeto pueda adoptar múltiples formas. En el contexto de la herencia, el polimorfismo permite que un objeto de la subclase pueda ser tratado como un objeto de la clase base, lo que facilita la escritura de código más genérico y reutilizable.\n",
    "\n",
    "## Ejemplo de Polimorfismo en la biblioteca\n",
    "\n",
    "Vamos a ver cómo podemos aplicar el polimorfismo en nuestro ejemplo de la biblioteca. Supongamos que queremos tener una función que imprima la información de cualquier autor, sin importar si es un Autor, un Escritor, un EscritorAcademico, etc."
   ]
  },
  {
   "cell_type": "code",
   "execution_count": 1,
   "metadata": {},
   "outputs": [],
   "source": [
    "def imprimir_informacion_autor(autor):\n",
    "    print(\"Nombre:\", autor.nombre)\n",
    "    if isinstance(autor, Escritor):\n",
    "        print(\"Género Literario:\", autor.genero)\n",
    "    if isinstance(autor, Academico):\n",
    "        print(\"Universidad:\", autor.universidad)"
   ]
  },
  {
   "cell_type": "markdown",
   "metadata": {},
   "source": [
    "Ahora, podemos pasar cualquier objeto de una clase que herede de Autor a esta función, y se imprimirá la información correspondiente:"
   ]
  },
  {
   "cell_type": "code",
   "execution_count": null,
   "metadata": {},
   "outputs": [],
   "source": [
    "autor = Autor(\"Julio Cortázar\")\n",
    "escritor_academico = EscritorAcademico(\"Umberto Eco\", \"Novela Histórica\", \"Universidad de Bolonia\")\n",
    "\n",
    "imprimir_informacion_autor(autor)\n",
    "imprimir_informacion_autor(escritor_academico)"
   ]
  },
  {
   "cell_type": "markdown",
   "metadata": {},
   "source": [
    "## Sobrescritura de métodos\n",
    "\n",
    "El polimorfismo también nos permite sobrescribir métodos en las subclases. Por ejemplo, podríamos tener un método informacion() en la clase Autor y sobrescribirlo en las subclases para que devuelva información adicional:"
   ]
  },
  {
   "cell_type": "code",
   "execution_count": null,
   "metadata": {},
   "outputs": [],
   "source": [
    "class Autor:\n",
    "    def __init__(self, nombre):\n",
    "        self.nombre = nombre\n",
    "    \n",
    "    def informacion(self):\n",
    "        return f\"Nombre: {self.nombre}\"\n",
    "\n",
    "class Escritor(Autor):\n",
    "    def __init__(self, nombre, genero):\n",
    "        super().__init__(nombre)\n",
    "        self.genero = genero\n",
    "    \n",
    "    def informacion(self):\n",
    "        return f\"{super().informacion()} - Género Literario: {self.genero}\"\n",
    "\n",
    "# Instanciamos un objeto de la clase Escritor para Mario Benedetti\n",
    "escritor = Escritor(\"Mario Benedetti\", \"Realismo Social\")\n",
    "print(escritor.informacion())"
   ]
  },
  {
   "cell_type": "markdown",
   "metadata": {},
   "source": [
    "El polimorfismo, junto con la herencia, nos permite escribir código más flexible y reutilizable, al permitirnos tratar objetos de subclases como si fueran objetos de la clase base y sobrescribir métodos para añadir funcionalidades específicas a las subclases."
   ]
  },
  {
   "cell_type": "markdown",
   "metadata": {},
   "source": [
    "## Ejemplos adicionales de Polimorfismo\n",
    "### Polimorfismo con métodos de clase"
   ]
  },
  {
   "cell_type": "code",
   "execution_count": 1,
   "metadata": {},
   "outputs": [
    {
     "name": "stdout",
     "output_type": "stream",
     "text": [
      "Guau Guau\n",
      "Miau Miau\n",
      "Prr Prr\n",
      "Algunos animales hacen sonidos\n"
     ]
    }
   ],
   "source": [
    "class Animal:\n",
    "    def sonido(self):\n",
    "        return \"Algunos animales hacen sonidos\"\n",
    "\n",
    "class Perro(Animal):\n",
    "    def sonido(self):\n",
    "        return \"Guau Guau\"\n",
    "\n",
    "class Gato(Animal):\n",
    "    def sonido(self):\n",
    "        return \"Miau Miau\"\n",
    "    \n",
    "class Loro(Animal):\n",
    "    def sonido(self):\n",
    "        return \"Prr Prr\"\n",
    "\n",
    "animales = [Perro(), Gato(), Loro(), Animal()]\n",
    "\n",
    "for animal in animales:\n",
    "    print(animal.sonido())"
   ]
  },
  {
   "cell_type": "markdown",
   "metadata": {},
   "source": [
    "## Desafíos\n",
    "\n",
    "### Desafío 62: \n",
    "Crea una clase Musico que tenga un método instrumento y crea dos subclases Guitarrista y Baterista que sobrescriban el método instrumento. Instancia objetos de estas clases y demuestra el polimorfismo."
   ]
  },
  {
   "cell_type": "code",
   "execution_count": null,
   "metadata": {},
   "outputs": [],
   "source": [
    "# Clase base\n",
    "class Musico:\n",
    "    def instrumento(self):\n",
    "        return \"Toca algún instrumento\"\n",
    "\n",
    "# Subclase 1\n",
    "class Guitarrista(Musico):\n",
    "    def instrumento(self):\n",
    "        return \"Toca la guitarra\"\n",
    "\n",
    "# Subclase 2\n",
    "class Baterista(Musico):\n",
    "    def instrumento(self):\n",
    "        return \"Toca la batería\"\n",
    "\n",
    "# Lista de músicos (polimorfismo)\n",
    "musicos = [Musico(), Guitarrista(), Baterista()]\n",
    "\n",
    "# Recorremos la lista y llamamos al mismo método\n",
    "for musico in musicos:\n",
    "    print(musico.instrumento())"
   ]
  },
  {
   "cell_type": "markdown",
   "metadata": {},
   "source": [
    "Se define una clase base llamada Musico, que representa el concepto general de un músico y contiene un método llamado instrumento(), el cual devuelve una descripción genérica. Luego se crea dos subclases, Guitarrista y Baterista, que heredan de Musico pero sobrescriben el método instrumento() para especificar qué instrumento toca cada uno. Después, se instancian objetos de cada clase y se guardan en una lista llamada musicos. Finalmente, se recorre la lista con un bucle for, llamando al mismo método instrumento() en cada objeto. Gracias al polimorfismo, Python ejecuta el método correspondiente a la clase real de cada objeto, mostrando así diferentes resultados con una misma llamada de función."
   ]
  },
  {
   "cell_type": "markdown",
   "metadata": {},
   "source": [
    "### Desafío 63: \n",
    "Añade un método biografia a la clase Autor y sobrescríbelo en la clase Escritor. Instancia un objeto de la clase Escritor y muestra cómo se puede acceder al método biografia de ambas clases."
   ]
  },
  {
   "cell_type": "code",
   "execution_count": null,
   "metadata": {},
   "outputs": [],
   "source": [
    "# Clase base\n",
    "class Autor:\n",
    "    def __init__(self, nombre):\n",
    "        self.nombre = nombre\n",
    "\n",
    "    def biografia(self):\n",
    "        return f\"{self.nombre} es un autor reconocido por su aporte a la literatura.\"\n",
    "\n",
    "# Subclase que hereda de Autor\n",
    "class Escritor(Autor):\n",
    "    def __init__(self, nombre, genero):\n",
    "        super().__init__(nombre)\n",
    "        self.genero = genero\n",
    "\n",
    "    # Se sobrescribe el método biografia\n",
    "    def biografia(self):\n",
    "        return f\"{self.nombre} es un escritor destacado en el género {self.genero}.\"\n",
    "\n",
    "# Se instancia un objeto de la clase Escritor\n",
    "escritor = Escritor(\"Mario Benedetti\", \"Realismo Social\")\n",
    "\n",
    "# Se llama al método sobrescrito (de la subclase)\n",
    "print(\"Biografía desde Escritor:\")\n",
    "print(escritor.biografia())\n",
    "\n",
    "# También se puede acceder al método original (de la clase base) usando super()\n",
    "print(\"\\nBiografía desde Autor:\")\n",
    "print(super(Escritor, escritor).biografia())"
   ]
  },
  {
   "cell_type": "markdown",
   "metadata": {},
   "source": [
    "Se define la clase base Autor, que contiene el atributo nombre y el método biografia(), el cual devuelve una descripción general del autor. Luego se crea la subclase Escritor, que hereda de Autor mediante la instrucción class Escritor(Autor):, e incorpora un nuevo atributo llamado genero. En esta subclase se sobrescribe el método biografia() para personalizar la información y mostrar el género literario correspondiente. Después, se instancia un objeto de la clase Escritor, por ejemplo escritor = Escritor(\"Mario Benedetti\", \"Realismo Social\"), y se llama a su método biografia() para mostrar el texto específico del escritor. Finalmente, para acceder también al método original de la clase Autor, se utiliza la función super(), que permite invocar el comportamiento heredado. De este modo, el programa demuestra el polimorfismo, ya que el mismo método (biografia) actúa de manera distinta según la clase que lo implemente."
   ]
  },
  {
   "cell_type": "markdown",
   "metadata": {},
   "source": [
    "### Desafío 64: \n",
    "En este desafío, vamos a extender la clase Libro para crear una subclase `LibroEspecializado`. Un `LibroEspecializado`, además de tener un título y un autor, también tiene un campo de estudio y un nivel de especialización (básico, intermedio, avanzado)."
   ]
  },
  {
   "cell_type": "code",
   "execution_count": null,
   "metadata": {},
   "outputs": [],
   "source": [
    "# Clase base\n",
    "class Libro:\n",
    "    def __init__(self, titulo, autor):\n",
    "        self.titulo = titulo\n",
    "        self.autor = autor\n",
    "\n",
    "    def informacion(self):\n",
    "        return f\"Título: {self.titulo} - Autor: {self.autor}\"\n",
    "        \n",
    "        # Subclase\n",
    "class LibroEspecializado(Libro):\n",
    "    def __init__(self, titulo, autor, campo_estudio, nivel_especializacion):\n",
    "        # Llamamos al constructor de la clase base\n",
    "        super().__init__(titulo, autor)\n",
    "        self.campo_estudio = campo_estudio\n",
    "        self.nivel_especializacion = nivel_especializacion\n",
    "\n",
    "    # Se sobrescribe el método informacion()\n",
    "    def informacion(self):\n",
    "        return (f\"{super().informacion()} - \"\n",
    "                f\"Campo de estudio: {self.campo_estudio} - \"\n",
    "                f\"Nivel: {self.nivel_especializacion}\")\n",
    "                \n",
    "                # Instancias\n",
    "libro1 = Libro(\"Cien años de soledad\", \"Gabriel García Márquez\")\n",
    "libro2 = LibroEspecializado(\"Introducción a la Biología\", \"Neil Campbell\", \"Biología\", \"Básico\")\n",
    "libro3 = LibroEspecializado(\"Programación en Python\", \"Luciano Ramalho\", \"Informática\", \"Avanzado\")\n",
    "\n",
    "# Polimorfismo en acción\n",
    "biblioteca = [libro1, libro2, libro3]\n",
    "\n",
    "for libro in biblioteca:\n",
    "    print(libro.informacion())"
   ]
  },
  {
   "cell_type": "markdown",
   "metadata": {},
   "source": [
    "Se define la clase base Libro, que contiene los atributos comunes título y autor, junto con un método informacion() que devuelve esos datos en forma de texto. Luego, se crea la subclase LibroEspecializado, que hereda de Libro mediante la palabra clave super(), y se amplia su constructor (__init__) para incluir los nuevos atributos campo_estudio y nivel_especializacion. Posteriormente, se sobrescribe el método informacion() para que, además del título y el autor, también muestre la información específica del libro especializado. Por último, se instancia objetos de ambas clases y se demostra el polimorfismo, ya que todos los objetos —tanto de la clase base como de la subclase— pueden ser tratados de la misma forma al ejecutar el método informacion(), adaptando su comportamiento según el tipo de objeto."
   ]
  },
  {
   "cell_type": "markdown",
   "metadata": {},
   "source": [
    "### Desafío 65: Polimorfismo en figuras geométricas\n",
    "En este desafío, se te pide que implementes el polimorfismo con métodos de clase en figuras geométricas. Deberás crear una clase base Figura con un método area y dos subclases Circulo y Cuadrado que sobrescriban este método para calcular el área de cada figura."
   ]
  },
  {
   "cell_type": "code",
   "execution_count": null,
   "metadata": {},
   "outputs": [],
   "source": [
    "import math\n",
    "\n",
    "# Clase base\n",
    "class Figura:\n",
    "    def area(self):\n",
    "        raise NotImplementedError(\"Este método debe ser implementado por las subclases.\")\n",
    "\n",
    "# Subclase Circulo\n",
    "class Circulo(Figura):\n",
    "    def __init__(self, radio):\n",
    "        self.radio = radio\n",
    "\n",
    "    def area(self):\n",
    "        return math.pi * self.radio ** 2\n",
    "\n",
    "# Subclase Cuadrado\n",
    "class Cuadrado(Figura):\n",
    "    def __init__(self, lado):\n",
    "        self.lado = lado\n",
    "\n",
    "    def area(self):\n",
    "        return self.lado ** 2\n",
    "\n",
    "# Lista de figuras\n",
    "figuras = [Circulo(3), Cuadrado(4), Circulo(5), Cuadrado(2)]\n",
    "\n",
    "# Demostración de polimorfismo\n",
    "for figura in figuras:\n",
    "    print(f\"El área de la figura es: {figura.area():.2f}\")"
   ]
  },
  {
   "cell_type": "markdown",
   "metadata": {},
   "source": [
    "Se crea una clase base llamada Figura que contiene un método area(), el cual sirve como modelo para las clases hijas. Luego se definen las subclases Circulo y Cuadrado, que heredan de Figura y sobrescriben el método area() para calcular el área según su propia fórmula: en el caso del círculo, se multiplica π por el radio al cuadrado, y en el del cuadrado, se eleva el lado al cuadrado. Después se crean objetos de ambas clases y se guardan en una lista. Finalmente, se utiliza un bucle for para recorrer esa lista y llamar al método area() de cada objeto, mostrando cómo el mismo método se comporta de forma distinta según la figura, lo que demuestra el principio del polimorfismo."
   ]
  },
  {
   "cell_type": "markdown",
   "metadata": {},
   "source": [
    "### Desafío 66: Polimorfismo en operaciones matemáticas\n",
    "En este desafío, aplicarás el polimorfismo para realizar diferentes operaciones\n",
    "matemáticas. Deberás crear una clase base Operacion con un método resultado y\n",
    "dos subclases Suma y Multiplicacion que sobrescriban este método para realizar\n",
    "las operaciones correspondientes."
   ]
  },
  {
   "cell_type": "code",
   "execution_count": null,
   "metadata": {},
   "outputs": [],
   "source": [
    "class Operacion:\n",
    "    def __init__(self, a, b):\n",
    "        self.a = a\n",
    "        self.b = b\n",
    "\n",
    "    def resultado(self):\n",
    "        return \"Este método debe ser sobrescrito por las subclases.\"\n",
    "\n",
    "\n",
    "class Suma(Operacion):\n",
    "    def resultado(self):\n",
    "        return f\"La suma de {self.a} + {self.b} = {self.a + self.b}\"\n",
    "\n",
    "\n",
    "class Multiplicacion(Operacion):\n",
    "    def resultado(self):\n",
    "        return f\"La multiplicación de {self.a} × {self.b} = {self.a * self.b}\"\n",
    "\n",
    "\n",
    "# Lista de operaciones\n",
    "operaciones = [\n",
    "    Suma(5, 3),\n",
    "    Multiplicacion(4, 6),\n",
    "    Suma(10, 2),\n",
    "    Multiplicacion(7, 8)\n",
    "]\n",
    "\n",
    "# Se aplica polimorfismo\n",
    "for op in operaciones:\n",
    "    print(op.resultado())"
   ]
  },
  {
   "cell_type": "markdown",
   "metadata": {},
   "source": [
    "Se crea una clase base llamada Operacion, que define un método resultado() pensado para ser sobrescrito por sus subclases. Luego se crean las clases Suma y Multiplicacion, que heredan de Operacion y redefinen el método resultado() para realizar sus respectivas operaciones matemáticas. Al crear una lista con objetos de ambos tipos y recorrerla con un mismo bucle, cada objeto ejecuta su propia versión del método, mostrando cómo un mismo mensaje (resultado) puede tener distintos comportamientos según la clase del objeto. Esto demuestra la esencia del polimorfismo: permitir que diferentes objetos respondan de manera particular al mismo método, haciendo el código más flexible y reutilizable."
   ]
  },
  {
   "cell_type": "markdown",
   "metadata": {},
   "source": [
    "## Referencias\n",
    "\n",
    "- [Polimorfismo en Python - W3Schools](https://www.w3schools.com/python/python_polymorphism.asp)\n",
    "- [Python Polymorphism - Programiz](https://www.programiz.com/python-programming/polymorphism)\n"
   ]
  }
 ],
 "metadata": {
  "kernelspec": {
   "display_name": "Python 3",
   "language": "python",
   "name": "python3"
  },
  "language_info": {
   "codemirror_mode": {
    "name": "ipython",
    "version": 3
   },
   "file_extension": ".py",
   "mimetype": "text/x-python",
   "name": "python",
   "nbconvert_exporter": "python",
   "pygments_lexer": "ipython3",
   "version": "3.12.2"
  },
  "orig_nbformat": 4
 },
 "nbformat": 4,
 "nbformat_minor": 2
}
