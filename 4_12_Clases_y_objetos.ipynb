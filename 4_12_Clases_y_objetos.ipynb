{
  "cells": [
    {
      "cell_type": "markdown",
      "metadata": {},
      "source": [
        "# Clases y Objetos en Python: Convirtiéndonos en Autores de Nuestro Conocimiento\n",
        "\n",
        "¡Bienvenido a este espacio de aprendizaje! Aquí, no solo aprenderemos sobre programación, sino que también nos convertiremos en los \"Autores\" de nuestro propio conocimiento. Al igual que un autor da vida a personajes y tramas en sus libros, nosotros daremos vida a entidades y lógicas en nuestro código.\n",
        "\n",
        "En este cuaderno, nos embarcaremos en una aventura literaria y de programación. Exploraremos el mundo de la Programación Orientada a Objetos (POO) en Python, donde cada concepto y entidad se convierte en un personaje en nuestra historia. Y, ¿cuál es el primer personaje que vamos a crear? ¡Un \"Autor\"!\n",
        "\n",
        "Pero no solo nos limitaremos a escribir sobre autores. En este viaje, cada uno de nosotros se convertirá en un autor en nuestra propia \"Clase\" o aula. A través de la POO, aprenderemos a organizar y estructurar nuestro código, creando clases y objetos que representen entidades del mundo real.\n",
        "\n",
        "Así que, ¿estás listo para tomar el lápiz (o mejor dicho, el teclado) y comenzar a escribir tu historia en el mundo de la programación? ¡Continuemos!\n"
      ]
    },
    {
      "cell_type": "markdown",
      "metadata": {},
      "source": [
        "### ¿Qué es una clase?\n",
        "\n",
        "Una clase es como un plano o plantilla que define las características (atributos) y comportamientos (métodos) que tendrá un objeto. Es una definición abstracta que provee una forma de empaquetar datos y funcionalidad juntos. Al crear una nueva clase en Python, se establece un nuevo tipo de objeto, permitiendo generar nuevas instancias de ese tipo. Cada instancia puede tener atributos para mantener su estado y métodos para modificarlo. \n",
        "\n",
        "> \"Las clases proveen una forma de empaquetar datos y funcionalidad juntos. Al crear una nueva clase, se crea un nuevo tipo de objeto, permitiendo crear nuevas instancias de ese tipo. Cada instancia de clase puede tener atributos adjuntos para mantener su estado. Las instancias de clase también pueden tener métodos (definidos por su clase) para modificar su estado.\" - [Fuente: python.org](https://docs.python.org/es/3/tutorial/classes.html)\n",
        "."
      ]
    },
    {
      "cell_type": "markdown",
      "metadata": {},
      "source": [
        "### ¿Qué es un objeto?\n",
        "\n",
        "Un objeto es una instancia de una clase. Es una representación concreta de la clase con valores reales para los atributos definidos en la clase. En el contexto de la programación en Python, según la [documentación oficial de Python](https://docs.python.org/es/3/tutorial/classes.html), un objeto es una colección de datos (variables) y métodos (funciones) que actúan sobre los datos. Es una unidad básica de la Programación Orientada a Objetos (POO).\n"
      ]
    },
    {
      "cell_type": "markdown",
      "metadata": {},
      "source": [
        "## Creando nuestra primera clase: Autor\n",
        "\n",
        "Vamos a crear una clase llamada `Autor`. Pero antes de sumergirnos en el código, reflexionemos sobre lo que queremos lograr."
      ]
    },
    {
      "cell_type": "markdown",
      "metadata": {},
      "source": [
        "### Reflexión inicial\n",
        "\n",
        "Si tuvieras que definir un autor, ¿qué características o atributos considerarías importantes? ¿Qué comportamientos o acciones asociarías con un autor?"
      ]
    },
    {
      "cell_type": "markdown",
      "metadata": {},
      "source": [
        "Probablemente hayas pensado en atributos como el nombre y la nacionalidad del autor. Estos serán los atributos que incluiremos en nuestra clase `Autor`."
      ]
    },
    {
      "cell_type": "markdown",
      "metadata": {},
      "source": [
        "### Definiendo la clase Autor\n",
        "\n",
        "Comencemos definiendo la clase `Autor` con los atributos `nombre` y `nacionalidad`."
      ]
    },
    {
      "cell_type": "code",
      "execution_count": 1,
      "metadata": {},
      "outputs": [],
      "source": [
        "class Autor:\n",
        "    def __init__(self, nombre=\"\", nacionalidad=\"\"):\n",
        "        self.nombre = nombre\n",
        "        self.nacionalidad = nacionalidad"
      ]
    },
    {
      "cell_type": "markdown",
      "metadata": {},
      "source": [
        "### Entendiendo la Clase Autor\n",
        "La clase Autor es una representación simplificada de un autor en el mundo de la programación. Vamos a desglosar su estructura y entender cada parte.\n",
        "\n",
        "### La declaración de la clase\n",
        "<span style=\"color:blue\">class</span> Autor:\n",
        "\n",
        "Con class, declaramos que estamos definiendo una nueva clase. Autor es el nombre de la clase, y en Python, por convención, los nombres de las clases suelen comenzar con una letra mayúscula."
      ]
    },
    {
      "cell_type": "markdown",
      "id": "27349e1f",
      "metadata": {},
      "source": [
        "### El método \\_\\_init__\n",
        "\n",
        "def \\_\\_init__(self, nombre=\"\", nacionalidad=\"\"):\n",
        "\n",
        "El método __init__ es un método especial en Python. Se le llama constructor y se ejecuta automáticamente cuando creamos una nueva instancia de la clase. Es decir, cuando creamos un nuevo objeto Autor, este método se invoca automáticamente.\n",
        "\n",
        "self: Es el primer parámetro que todos los métodos en una clase deben aceptar. Representa la instancia actual del objeto y permite acceder a los atributos y métodos de la clase. En otros lenguajes de programación, es equivalente a palabras como this.\n",
        "\n",
        "nombre y nacionalidad: Son parámetros con valores predeterminados de cadenas vacías. Estos representan los atributos del autor que queremos establecer cuando creamos una nueva instancia."
      ]
    },
    {
      "cell_type": "markdown",
      "id": "8d1b5760",
      "metadata": {},
      "source": [
        "### Atributos de la clase\n",
        "\n",
        "self.nombre = nombre \n",
        "\n",
        "self.nacionalidad = nacionalidad\n",
        "\n",
        "Los atributos son variables que pertenecen a la clase y representan características del objeto. En este caso, nombre y nacionalidad son atributos de la clase Autor.\n",
        "\n",
        "self.nombre y self.nacionalidad: Aquí estamos asignando los valores pasados al constructor a los atributos del objeto. El uso de self indica que estos son atributos del objeto y no simples variables locales del constructor.\n"
      ]
    },
    {
      "cell_type": "markdown",
      "metadata": {},
      "source": [
        "### Métodos --funciones--\n",
        "\n",
        "Dentro de las clases en Python, podemos definir funciones que se conocen como \"métodos\". Estos métodos operan sobre los atributos de la clase y pueden realizar diversas operaciones, desde modificar el estado del objeto hasta mostrar información sobre él.\n",
        "\n",
        "En nuestra clase Autor, hemos definido un método llamado mostrar_autor:\n"
      ]
    },
    {
      "cell_type": "code",
      "execution_count": 2,
      "metadata": {},
      "outputs": [],
      "source": [
        "class Autor:\n",
        "    # Constructor de la clase\n",
        "    def __init__(self, nombre=\"\", nacionalidad=\"\"):\n",
        "        self.nombre = nombre\n",
        "        self.nacionalidad = nacionalidad\n",
        "\n",
        "    # Método para mostrar los detalles del autor\n",
        "    def mostrar_autor(self):\n",
        "        print(f\"Nombre: {self.nombre}\")\n",
        "        print(f\"Nacionalidad: {self.nacionalidad}\")"
      ]
    },
    {
      "cell_type": "markdown",
      "metadata": {},
      "source": [
        "### Instanciando objetos\n",
        "\n",
        "Ahora que tenemos nuestra clase `Autor` definida, podemos crear objetos o instancias de esta clase."
      ]
    },
    {
      "cell_type": "code",
      "execution_count": 4,
      "metadata": {},
      "outputs": [
        {
          "name": "stdout",
          "output_type": "stream",
          "text": [
            "Mario Benedetti\n",
            "Uruguayo\n"
          ]
        }
      ],
      "source": [
        "autor1 = Autor(\"Mario Benedetti\", \"Uruguayo\")\n",
        "print(autor1.nombre)\n",
        "print(autor1.nacionalidad)"
      ]
    },
    {
      "cell_type": "markdown",
      "metadata": {},
      "source": [
        "## Desafíos\n",
        "\n",
        "### Desafío 47\n",
        "\n",
        "Amplía la clase `Autor` para incluir una lista de libros escritos por el autor. Implementa métodos para agregar y eliminar libros de esta lista."
      ]
    },
    {
      "cell_type": "code",
      "execution_count": null,
      "id": "f7bd05fb",
      "metadata": {},
      "outputs": [],
      "source": [
        "# Definición de la clase Autor ampliada\n",
        "class Autor:\n",
        "    def __init__(self, nombre=\"\", nacionalidad=\"\"):\n",
        "        self.nombre = nombre\n",
        "        self.nacionalidad = nacionalidad\n",
        "        self.libros = []  # Lista para almacenar los libros del autor\n",
        "\n",
        "    # Método para mostrar los detalles del autor\n",
        "    def mostrar_autor(self):\n",
        "        print(f\"Nombre: {self.nombre}\")\n",
        "        print(f\"Nacionalidad: {self.nacionalidad}\")\n",
        "        if self.libros:\n",
        "            print(\"Libros escritos:\", \", \".join(self.libros))\n",
        "        else:\n",
        "            print(\"Libros escritos: Ninguno\")\n",
        "\n",
        "    # Método para agregar un libro\n",
        "    def agregar_libro(self, libro):\n",
        "        self.libros.append(libro)\n",
        "        print(f'Libro \"{libro}\" agregado.')\n",
        "\n",
        "    # Método para eliminar un libro\n",
        "    def eliminar_libro(self, libro):\n",
        "        if libro in self.libros:\n",
        "            self.libros.remove(libro)\n",
        "            print(f'Libro \"{libro}\" eliminado.')\n",
        "        else:\n",
        "            print(f'El libro \"{libro}\" no se encuentra en la lista.')\n",
        "            \n",
        "\n",
        "# Ejemplo:\n",
        "autor1 = Autor(\"Mario Benedetti\", \"Uruguayo\")\n",
        "autor1.agregar_libro(\"La tregua\")\n",
        "autor1.agregar_libro(\"Gracias por el fuego\")\n",
        "autor1.mostrar_autor()\n",
        "autor1.eliminar_libro(\"La tregua\")\n",
        "autor1.mostrar_autor()"
      ]
    },
    {
      "cell_type": "markdown",
      "id": "8a095f2b",
      "metadata": {},
      "source": [
        "Se amplia la clase Autor agregando un atributo libros, lista destinada a almacenar los títulos de los libros del autor. Además, se implementa los métodos agregar_libro() y eliminar_libro() para manipular dicha lista, permitiendo añadir o eliminar libros de forma sencilla. Al crear un objeto autor1, se puede registrar libros mediante agregar_libro(), mostrar todos los detalles del autor con mostrar_autor() y eliminar libros que ya no se quieran en la lista con eliminar_libro(). De esta manera, la clase refleja no solo las características del autor, sino también sus obras, integrando datos y comportamientos de manera organizada y funcional."
      ]
    },
    {
      "cell_type": "markdown",
      "id": "6a92e94f",
      "metadata": {},
      "source": [
        "### Desafío 48\n",
        "\n",
        "Crea una clase `Libro` con atributos como título, género e ISBN. ¿Cómo podrías relacionar esta clase con la clase `Autor`?"
      ]
    },
    {
      "cell_type": "code",
      "execution_count": null,
      "id": "e8bda105",
      "metadata": {},
      "outputs": [],
      "source": [
        "# Clase Autor\n",
        "class Autor:\n",
        "    def __init__(self, nombre=\"\", nacionalidad=\"\"):\n",
        "        self.nombre = nombre\n",
        "        self.nacionalidad = nacionalidad\n",
        "\n",
        "    def mostrar_autor(self):\n",
        "        print(f\"Nombre: {self.nombre}\")\n",
        "        print(f\"Nacionalidad: {self.nacionalidad}\")\n",
        "\n",
        "# Clase Libro\n",
        "class Libro:\n",
        "    def __init__(self, titulo=\"\", genero=\"\", isbn=\"\", autor=None):\n",
        "        self.titulo = titulo\n",
        "        self.genero = genero\n",
        "        self.isbn = isbn\n",
        "        self.autor = autor  # Relación: cada libro tiene un autor\n",
        "\n",
        "    def mostrar_libro(self):\n",
        "        print(f\"Título: {self.titulo}\")\n",
        "        print(f\"Género: {self.genero}\")\n",
        "        print(f\"ISBN: {self.isbn}\")\n",
        "        if self.autor:\n",
        "            print(\"Datos del autor:\")\n",
        "            self.autor.mostrar_autor()\n",
        "\n",
        "# Se crea un objeto Autor\n",
        "autor1 = Autor(\"Gabriel García Márquez\", \"Colombiano\")\n",
        "\n",
        "# Se crea un objeto Libro relacionado con el autor\n",
        "libro1 = Libro(\"Cien años de soledad\", \"Novela\", \"1234567890\", autor1)\n",
        "\n",
        "# Se muestra la información del libro y su autor\n",
        "libro1.mostrar_libro()"
      ]
    },
    {
      "cell_type": "markdown",
      "id": "fdb69923",
      "metadata": {},
      "source": [
        "Se crean dos clases: Autor y Libro. La clase Libro tiene un atributo especial llamado autor, que permite relacionar cada libro con un objeto de la clase Autor. Esto refleja la relación del mundo real, donde cada libro es escrito por un autor específico. Al crear un objeto Libro, se puede pasar un objeto Autor como parámetro, de modo que cada libro “conozca” quién lo escribió. Luego, mediante el método mostrar_libro(), se muestra tanto los datos del libro como los del autor."
      ]
    },
    {
      "cell_type": "markdown",
      "id": "84e6d9b3",
      "metadata": {},
      "source": [
        "### Desafío 49\n",
        "\n",
        "Considera cómo podrías implementar una biblioteca que almacene múltiples autores y libros. ¿Qué estructuras de datos usarías?"
      ]
    },
    {
      "cell_type": "code",
      "execution_count": null,
      "id": "d3cf0a3e",
      "metadata": {},
      "outputs": [],
      "source": [
        "# Definición de la clase Autor\n",
        "class Autor:\n",
        "    def __init__(self, nombre=\"\", nacionalidad=\"\"):\n",
        "        self.nombre = nombre\n",
        "        self.nacionalidad = nacionalidad\n",
        "        self.libros = []  # Lista para almacenar libros del autor\n",
        "\n",
        "    def agregar_libro(self, libro):\n",
        "        self.libros.append(libro)\n",
        "\n",
        "    def mostrar_autor(self):\n",
        "        print(f\"Nombre: {self.nombre}, Nacionalidad: {self.nacionalidad}\")\n",
        "        print(\"Libros:\")\n",
        "        for libro in self.libros:\n",
        "            print(f\" - {libro.titulo}\")\n",
        "\n",
        "# Definición de la clase Libro\n",
        "class Libro:\n",
        "    def __init__(self, titulo=\"\", año=0):\n",
        "        self.titulo = titulo\n",
        "        self.año = año\n",
        "\n",
        "# Se crean objetos Autor y Libro\n",
        "autor1 = Autor(\"Mario Benedetti\", \"Uruguayo\")\n",
        "libro1 = Libro(\"La Tregua\", 1960)\n",
        "libro2 = Libro(\"Gracias por el Fuego\", 1965)\n",
        "\n",
        "# Se asocian libros al autor\n",
        "autor1.agregar_libro(libro1)\n",
        "autor1.agregar_libro(libro2)\n",
        "\n",
        "# Se almacenan autores en una lista de la biblioteca\n",
        "biblioteca = [autor1]\n",
        "\n",
        "# Se muestra la información de la biblioteca\n",
        "for autor in biblioteca:\n",
        "    autor.mostrar_autor()"
      ]
    },
    {
      "cell_type": "markdown",
      "id": "9fb84915",
      "metadata": {},
      "source": [
        "Se crean dos clases: Autor y Libro. Cada autor tiene una lista de libros (self.libros) que permite asociar múltiples libros a un mismo autor. Para organizar toda la biblioteca se usa una lista de autores. De esta forma, se puede agregar fácilmente nuevos autores y libros, y mostrar su información de manera clara, manteniendo el código estructurado y reutilizable."
      ]
    },
    {
      "cell_type": "markdown",
      "id": "04c72898",
      "metadata": {},
      "source": [
        "### Desafío 50\n",
        "\n",
        "Piensa en otros atributos y métodos que podrías agregar a la clase `Autor` para hacerla más completa."
      ]
    },
    {
      "cell_type": "code",
      "execution_count": null,
      "id": "8c21c230",
      "metadata": {},
      "outputs": [],
      "source": [
        "class Autor:\n",
        "    # Construcción de la clase\n",
        "    def __init__(self, nombre=\"\", nacionalidad=\"\", fecha_nacimiento=\"\", genero_literario=\"\"):\n",
        "        self.nombre = nombre\n",
        "        self.nacionalidad = nacionalidad\n",
        "        self.fecha_nacimiento = fecha_nacimiento\n",
        "        self.genero_literario = genero_literario\n",
        "        self.libros = []  # Lista para almacenar títulos de libros del autor\n",
        "\n",
        "    # Método para mostrar los detalles del autor\n",
        "    def mostrar_autor(self):\n",
        "        print(f\"Nombre: {self.nombre}\")\n",
        "        print(f\"Nacionalidad: {self.nacionalidad}\")\n",
        "        print(f\"Fecha de nacimiento: {self.fecha_nacimiento}\")\n",
        "        print(f\"Género literario: {self.genero_literario}\")\n",
        "        print(f\"Libros publicados: {', '.join(self.libros) if self.libros else 'Ninguno'}\")\n",
        "\n",
        "    # Método para agregar un libro a la lista del autor\n",
        "    def agregar_libro(self, titulo):\n",
        "        self.libros.append(titulo)\n",
        "        print(f\"Libro '{titulo}' agregado a {self.nombre}.\")\n",
        "        \n",
        "        # Se crea un objeto autor\n",
        "autor1 = Autor(\"Gabriel García Márquez\", \"Colombiano\", \"6 de marzo de 1927\", \"Realismo mágico\")\n",
        "\n",
        "# Se agregan libros\n",
        "autor1.agregar_libro(\"Cien años de soledad\")\n",
        "autor1.agregar_libro(\"El amor en los tiempos del cólera\")\n",
        "\n",
        "# Se muestra información completa del autor\n",
        "autor1.mostrar_autor()"
      ]
    },
    {
      "cell_type": "markdown",
      "id": "efbe9dc1",
      "metadata": {},
      "source": [
        "Se crea una clase Autor más completa incluyendo atributos como fecha_nacimiento, genero_literario y una lista libros para almacenar las obras del autor. Además de mostrar los datos del autor con mostrar_autor(), se agrega el método agregar_libro(titulo) para registrar los libros publicados. De este modo, cada objeto Autor puede mantener su información personal y sus obras asociadas."
      ]
    },
    {
      "cell_type": "markdown",
      "id": "d748a74c",
      "metadata": {},
      "source": [
        "### Desafío 51\n",
        "\n",
        "Reflexiona sobre cómo podrías implementar una función de búsqueda para encontrar un libro específico o autor en una biblioteca."
      ]
    },
    {
      "cell_type": "code",
      "execution_count": null,
      "id": "498dd023",
      "metadata": {},
      "outputs": [],
      "source": [
        "# Se define la clase Autor\n",
        "class Autor:\n",
        "    def __init__(self, nombre=\"\", nacionalidad=\"\"):\n",
        "        self.nombre = nombre\n",
        "        self.nacionalidad = nacionalidad\n",
        "\n",
        "# DeSe define la clase Libro\n",
        "class Libro:\n",
        "    def __init__(self, titulo=\"\", autor=None):\n",
        "        self.titulo = titulo\n",
        "        self.autor = autor  # Espera un objeto de tipo Autor\n",
        "\n",
        "# Función de búsqueda por título o autor\n",
        "def buscar_libro(biblioteca, busqueda):\n",
        "    resultados = []\n",
        "    for libro in biblioteca:\n",
        "        if busqueda.lower() in libro.titulo.lower() or busqueda.lower() in libro.autor.nombre.lower():\n",
        "            resultados.append(libro)\n",
        "    return resultados\n",
        "\n",
        "# Se crean autores y libros\n",
        "autor1 = Autor(\"Mario Benedetti\", \"Uruguayo\")\n",
        "autor2 = Autor(\"Gabriel García Márquez\", \"Colombiano\")\n",
        "\n",
        "libro1 = Libro(\"La Tregua\", autor1)\n",
        "libro2 = Libro(\"Cien Años de Soledad\", autor2)\n",
        "libro3 = Libro(\"Gracias por el Fuego\", autor1)\n",
        "\n",
        "# Biblioteca\n",
        "biblioteca = [libro1, libro2, libro3]\n",
        "\n",
        "# Se busca un libro o autor\n",
        "resultado = buscar_libro(biblioteca, \"Benedetti\")\n",
        "for libro in resultado:\n",
        "    print(f\"Título: {libro.titulo}, Autor: {libro.autor.nombre}\")"
      ]
    },
    {
      "cell_type": "markdown",
      "id": "91cda2a2",
      "metadata": {},
      "source": [
        "Se crean dos clases: Autor y Libro. Cada libro está asociado a un autor mediante un objeto de la clase Autor. Para buscar un libro o autor, se define la función buscar_libro que recibe una lista de libros (la biblioteca) y un término de búsqueda. La función recorre todos los libros y compara si el término coincide parcial o totalmente con el título del libro o con el nombre del autor, ignorando mayúsculas y minúsculas. Los libros que cumplen la condición se agregan a la lista de resultados, que luego se devuelve para mostrar los libros encontrados. Esto permite buscar de manera flexible tanto por autor como por título."
      ]
    },
    {
      "cell_type": "markdown",
      "metadata": {},
      "source": [
        "## Referencias\n",
        "\n",
        "- [Documentación oficial de Python sobre clases](https://docs.python.org/es/3/tutorial/classes.html)\n",
        "- [Tutorial de Recursos Python sobre clases](https://tutorial.recursospython.com/clases/)\n",
        "- [Mejorando tu programación con Python: Las clases](https://atareao.es/pyldora/mejorando-tu-programacion-con-python-las-clases/)\n",
        "- [Clases y métodos en Python - Python desde cero](https://pythones.net/clases-y-metodos-python-oop/)\n",
        "- [Curso Python: 14. POO (Clases y objetos) - YouTube](https://www.youtube.com/watch?v=G6I3od7qwRU&ab_channel=C%C3%B3digosdeProgramaci%C3%B3n-MR)\n",
        "- [Tutorial Python 13: Clases y Objetos - YouTube](https://www.youtube.com/watch?v=VYXdpjCZojA&ab_channel=codigofacilito)"
      ]
    }
  ],
  "metadata": {
    "kernelspec": {
      "display_name": "venv",
      "language": "python",
      "name": "python3"
    },
    "language_info": {
      "codemirror_mode": {
        "name": "ipython",
        "version": 3
      },
      "file_extension": ".py",
      "mimetype": "text/x-python",
      "name": "python",
      "nbconvert_exporter": "python",
      "pygments_lexer": "ipython3",
      "version": "3.11.1"
    }
  },
  "nbformat": 4,
  "nbformat_minor": 5
}
